{
 "cells": [
  {
   "cell_type": "code",
   "execution_count": 1,
   "metadata": {},
   "outputs": [],
   "source": [
    "import pandas as pd\n",
    "import numpy as np\n",
    "import matplotlib.pyplot as plt\n",
    "from sklearn.preprocessing import StandardScaler\n",
    "from sklearn.linear_model import LinearRegression\n",
    "from sklearn.metrics import mean_squared_error, mean_absolute_error, r2_score\n",
    "from sklearn.model_selection import train_test_split, cross_val_score\n"
   ]
  },
  {
   "cell_type": "code",
   "execution_count": 2,
   "metadata": {},
   "outputs": [],
   "source": [
    "np.random.seed(42)\n",
    "\n",
    "DROPPED_COLUMNS_001 = ['oper_set_3', 'temp_fan_inlet', 'engine_px_ratio', 'demanded_fan_speed', \n",
    "                       'demanded_corr_fan_speed', 'px_fan_inlet', 'px_by_duct', 'fuel_air_ratio']\n",
    "RENAMING_DICT = {0: \"engine_num\", 1: \"cycle_num\", 2: \"oper_set_1\", 3: \"oper_set_2\", 4: \"oper_set_3\", \n",
    "                 5: \"temp_fan_inlet\", 6: \"temp_lpc_outlet\", 7: \"temp_hpc_outlet\", 8: \"temp_lpt_outlet\", \n",
    "                 9: \"px_fan_inlet\", 10: \"px_by_duct\", 11: \"px_hpc_outlet\", 12: \"phys_fan_speed\", \n",
    "                 13: \"phys_core_speed\", 14: \"engine_px_ratio\", 15: \"stat_px_hpc_out\", 16: \"fuel_flow_ratio\", \n",
    "                 17: \"corr_fan_speed\", 18: \"corr_core_speed\", 19: \"bypass_ratio\", 20: \"fuel_air_ratio\", \n",
    "                 21: \"bleed_enthalpy\", 22: \"demanded_fan_speed\", 23: \"demanded_corr_fan_speed\", \n",
    "                 24: \"hpt_coolant_bleed\", 25: \"lpt_coolant_bleed\"}\n"
   ]
  },
  {
   "cell_type": "code",
   "execution_count": 3,
   "metadata": {},
   "outputs": [
    {
     "name": "stderr",
     "output_type": "stream",
     "text": [
      "C:\\Users\\Dell\\AppData\\Local\\Temp\\ipykernel_2788\\218820911.py:20: FutureWarning: Not prepending group keys to the result index of transform-like apply. In the future, the group keys will be included in the index, regardless of whether the applied function returns a like-indexed object.\n",
      "To preserve the previous behavior, use\n",
      "\n",
      "\t>>> .groupby(..., group_keys=False)\n",
      "\n",
      "To adopt the future behavior and silence this warning, use \n",
      "\n",
      "\t>>> .groupby(..., group_keys=True)\n",
      "  train_001['rul'] = train_001.groupby('engine_num')['cycle_num'].apply(lambda x: x.max() - x).values\n"
     ]
    }
   ],
   "source": [
    "# Data Import and Cleaning\n",
    "train_001 = pd.read_csv(\"../CMAPSS Nasa Data set/train_FD001.txt\", sep=\"\\s+\", header=None)\n",
    "test_001 = pd.read_csv(\"../CMAPSS Nasa Data set/test_FD001.txt\", sep=\"\\s+\", header=None)\n",
    "rul_001 = pd.read_csv(\"../CMAPSS Nasa Data set/RUL_FD001.txt\", header=None)\n",
    "\n",
    "# Rename columns\n",
    "train_001.rename(columns=RENAMING_DICT, inplace=True)\n",
    "test_001.rename(columns=RENAMING_DICT, inplace=True)\n",
    "rul_001.rename(columns={0: \"rul\"}, inplace=True)\n",
    "\n",
    "# Drop columns with constant values\n",
    "train_001.drop(columns=DROPPED_COLUMNS_001, inplace=True)\n",
    "test_001.drop(columns=DROPPED_COLUMNS_001, inplace=True)\n",
    "\n",
    "# Drop columns with high correlation\n",
    "train_001.drop(columns=[\"corr_core_speed\"], inplace=True)\n",
    "test_001.drop(columns=[\"corr_core_speed\"], inplace=True)\n",
    "\n",
    "# Add RUL to training data\n",
    "train_001['rul'] = train_001.groupby('engine_num')['cycle_num'].apply(lambda x: x.max() - x).values\n",
    "\n",
    "# Drop cycle number as it doesn't help in prediction\n",
    "train_001.drop(columns=\"cycle_num\", inplace=True)\n",
    "test_001.drop(columns=\"cycle_num\", inplace=True)\n"
   ]
  },
  {
   "cell_type": "code",
   "execution_count": 4,
   "metadata": {},
   "outputs": [
    {
     "name": "stdout",
     "output_type": "stream",
     "text": [
      "Linear Regression Model Performance\n",
      "Training RMSE: 44.76\n",
      "Training MAE: 34.16\n",
      "Training R-squared: 0.58\n",
      "Test RMSE: 44.40\n",
      "Test MAE: 34.10\n",
      "Test R-squared: 0.57\n",
      "Cross-validation R-squared: 0.57\n",
      "Training error (R-squared difference from cross-validation): 0.01\n",
      "The model is well-generalized and balanced.\n"
     ]
    }
   ],
   "source": [
    "# Define features and target variable\n",
    "X = train_001.drop(columns=['engine_num', 'rul'])\n",
    "y = train_001['rul']\n",
    "\n",
    "# Scale the features\n",
    "scaler = StandardScaler()\n",
    "X_scaled = scaler.fit_transform(X)\n",
    "\n",
    "# Initialize Linear Regression model\n",
    "lr_model = LinearRegression()\n",
    "\n",
    "# Train-test split for evaluation\n",
    "X_train, X_test, y_train, y_test = train_test_split(X_scaled, y, test_size=0.2, random_state=42)\n",
    "\n",
    "# Train the model\n",
    "lr_model.fit(X_train, y_train)\n",
    "\n",
    "# Predict on the training set and test set\n",
    "y_train_pred = lr_model.predict(X_train)\n",
    "y_test_pred = lr_model.predict(X_test)\n",
    "\n",
    "# Evaluate model performance on training set\n",
    "rmse_train = np.sqrt(mean_squared_error(y_train, y_train_pred))\n",
    "mae_train = mean_absolute_error(y_train, y_train_pred)\n",
    "r2_train = r2_score(y_train, y_train_pred)\n",
    "\n",
    "# Evaluate model performance on test set\n",
    "rmse_test = np.sqrt(mean_squared_error(y_test, y_test_pred))\n",
    "mae_test = mean_absolute_error(y_test, y_test_pred)\n",
    "r2_test = r2_score(y_test, y_test_pred)\n",
    "\n",
    "# Cross-validation to assess generalization performance\n",
    "cv_scores = cross_val_score(lr_model, X_scaled, y, cv=5, scoring='r2')\n",
    "mean_cv_score = np.mean(cv_scores)\n",
    "\n",
    "# Print model performance metrics\n",
    "print(\"Linear Regression Model Performance\")\n",
    "print(f\"Training RMSE: {rmse_train:.2f}\")\n",
    "print(f\"Training MAE: {mae_train:.2f}\")\n",
    "print(f\"Training R-squared: {r2_train:.2f}\")\n",
    "print(f\"Test RMSE: {rmse_test:.2f}\")\n",
    "print(f\"Test MAE: {mae_test:.2f}\")\n",
    "print(f\"Test R-squared: {r2_test:.2f}\")\n",
    "print(f\"Cross-validation R-squared: {mean_cv_score:.2f}\")\n",
    "\n",
    "# Assessing overfitting or underfitting\n",
    "training_error = np.abs(r2_train - mean_cv_score)\n",
    "print(f\"Training error (R-squared difference from cross-validation): {training_error:.2f}\")\n",
    "\n",
    "if training_error < 0.1:\n",
    "    print(\"The model is well-generalized and balanced.\")\n",
    "elif r2_train > r2_test:\n",
    "    print(\"The model may be overfitting on the training data.\")\n",
    "else:\n",
    "    print(\"The model may be underfitting or requires further optimization.\")\n"
   ]
  }
 ],
 "metadata": {
  "kernelspec": {
   "display_name": "Python 3",
   "language": "python",
   "name": "python3"
  },
  "language_info": {
   "codemirror_mode": {
    "name": "ipython",
    "version": 3
   },
   "file_extension": ".py",
   "mimetype": "text/x-python",
   "name": "python",
   "nbconvert_exporter": "python",
   "pygments_lexer": "ipython3",
   "version": "3.11.5"
  }
 },
 "nbformat": 4,
 "nbformat_minor": 2
}
